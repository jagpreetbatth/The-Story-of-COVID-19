{
 "cells": [
  {
   "cell_type": "markdown",
   "id": "ce9a6618",
   "metadata": {},
   "source": [
    "## 6.4 Machine Learning Part 1"
   ]
  },
  {
   "cell_type": "markdown",
   "id": "e3df1abc",
   "metadata": {},
   "source": [
    "### This script contains the following:\n",
    "\n",
    "#### 1. Importing libraries and data\n",
    "#### 2. Data cleaning\n",
    "#### 3. Hypothesis\n",
    "#### 4. Data prep for regression analysis\n",
    "#### 5. Regression analysis"
   ]
  },
  {
   "cell_type": "markdown",
   "id": "e37a181c",
   "metadata": {},
   "source": [
    "### 1. Importing libraries and data"
   ]
  },
  {
   "cell_type": "code",
   "execution_count": 1,
   "id": "310cf46b",
   "metadata": {},
   "outputs": [],
   "source": [
    "import pandas as pd\n",
    "import numpy as np\n",
    "import seaborn as sns\n",
    "import matplotlib\n",
    "import matplotlib.pyplot as plt\n",
    "import os\n",
    "import sklearn\n",
    "from sklearn.model_selection import train_test_split \n",
    "from sklearn.linear_model import LinearRegression\n",
    "from sklearn.metrics import mean_squared_error, r2_score\n",
    "from pandas.plotting import register_matplotlib_converters\n",
    "register_matplotlib_converters()\n",
    "sns.set(font_scale=1.5, style=\"whitegrid\")"
   ]
  },
  {
   "cell_type": "code",
   "execution_count": 2,
   "id": "506b8c6a",
   "metadata": {},
   "outputs": [],
   "source": [
    "# This option ensures that the graphs you create are displayed within the notebook without the need to \"call\" them specifically.\n",
    "\n",
    "%matplotlib inline"
   ]
  },
  {
   "cell_type": "code",
   "execution_count": 3,
   "id": "23bbe2c8",
   "metadata": {},
   "outputs": [],
   "source": [
    "# Define Master Path\n",
    "\n",
    "path = r'/Users/jagpreetbatth/Desktop/Career/Python/COVID-19 Analysis'"
   ]
  },
  {
   "cell_type": "code",
   "execution_count": 4,
   "id": "9d84524c",
   "metadata": {},
   "outputs": [
    {
     "data": {
      "text/plain": [
       "'/Users/jagpreetbatth/Desktop/Career/Python/COVID-19 Analysis'"
      ]
     },
     "execution_count": 4,
     "metadata": {},
     "output_type": "execute_result"
    }
   ],
   "source": [
    "# Verify path\n",
    "\n",
    "path"
   ]
  },
  {
   "cell_type": "code",
   "execution_count": 5,
   "id": "93b9687c",
   "metadata": {},
   "outputs": [],
   "source": [
    "# Import Covid-19 Dataset\n",
    "\n",
    "df= pd.read_csv(os.path.join(path, 'Data', 'Prepared Data', 'COVID-19_analysis_clean.csv'))"
   ]
  },
  {
   "cell_type": "markdown",
   "id": "d43654b2",
   "metadata": {},
   "source": [
    "### 2. Data cleaning"
   ]
  },
  {
   "cell_type": "code",
   "execution_count": 6,
   "id": "4e70491d",
   "metadata": {},
   "outputs": [
    {
     "data": {
      "text/html": [
       "<div>\n",
       "<style scoped>\n",
       "    .dataframe tbody tr th:only-of-type {\n",
       "        vertical-align: middle;\n",
       "    }\n",
       "\n",
       "    .dataframe tbody tr th {\n",
       "        vertical-align: top;\n",
       "    }\n",
       "\n",
       "    .dataframe thead th {\n",
       "        text-align: right;\n",
       "    }\n",
       "</style>\n",
       "<table border=\"1\" class=\"dataframe\">\n",
       "  <thead>\n",
       "    <tr style=\"text-align: right;\">\n",
       "      <th></th>\n",
       "      <th>Unnamed: 0</th>\n",
       "      <th>Country</th>\n",
       "      <th>Lat</th>\n",
       "      <th>Long</th>\n",
       "      <th>Date</th>\n",
       "      <th>Confirmed</th>\n",
       "      <th>Deaths</th>\n",
       "      <th>Recovered</th>\n",
       "      <th>Active</th>\n",
       "      <th>WHO Region</th>\n",
       "    </tr>\n",
       "  </thead>\n",
       "  <tbody>\n",
       "    <tr>\n",
       "      <th>0</th>\n",
       "      <td>228</td>\n",
       "      <td>Zimbabwe</td>\n",
       "      <td>-19.015438</td>\n",
       "      <td>29.154857</td>\n",
       "      <td>2020-01-22</td>\n",
       "      <td>0</td>\n",
       "      <td>0</td>\n",
       "      <td>0</td>\n",
       "      <td>0.0</td>\n",
       "      <td>Africa</td>\n",
       "    </tr>\n",
       "    <tr>\n",
       "      <th>1</th>\n",
       "      <td>227</td>\n",
       "      <td>Zambia</td>\n",
       "      <td>-13.133897</td>\n",
       "      <td>27.849332</td>\n",
       "      <td>2020-01-22</td>\n",
       "      <td>0</td>\n",
       "      <td>0</td>\n",
       "      <td>0</td>\n",
       "      <td>0.0</td>\n",
       "      <td>Africa</td>\n",
       "    </tr>\n",
       "    <tr>\n",
       "      <th>2</th>\n",
       "      <td>257</td>\n",
       "      <td>Yemen</td>\n",
       "      <td>15.552727</td>\n",
       "      <td>48.516388</td>\n",
       "      <td>2020-01-22</td>\n",
       "      <td>0</td>\n",
       "      <td>0</td>\n",
       "      <td>0</td>\n",
       "      <td>0.0</td>\n",
       "      <td>Eastern Mediterranean</td>\n",
       "    </tr>\n",
       "    <tr>\n",
       "      <th>3</th>\n",
       "      <td>255</td>\n",
       "      <td>Western Sahara</td>\n",
       "      <td>24.215500</td>\n",
       "      <td>-12.885800</td>\n",
       "      <td>2020-01-22</td>\n",
       "      <td>0</td>\n",
       "      <td>0</td>\n",
       "      <td>0</td>\n",
       "      <td>0.0</td>\n",
       "      <td>Africa</td>\n",
       "    </tr>\n",
       "    <tr>\n",
       "      <th>4</th>\n",
       "      <td>237</td>\n",
       "      <td>West Bank and Gaza</td>\n",
       "      <td>31.952200</td>\n",
       "      <td>35.233200</td>\n",
       "      <td>2020-01-22</td>\n",
       "      <td>0</td>\n",
       "      <td>0</td>\n",
       "      <td>0</td>\n",
       "      <td>0.0</td>\n",
       "      <td>Eastern Mediterranean</td>\n",
       "    </tr>\n",
       "  </tbody>\n",
       "</table>\n",
       "</div>"
      ],
      "text/plain": [
       "   Unnamed: 0             Country        Lat       Long        Date  \\\n",
       "0         228            Zimbabwe -19.015438  29.154857  2020-01-22   \n",
       "1         227              Zambia -13.133897  27.849332  2020-01-22   \n",
       "2         257               Yemen  15.552727  48.516388  2020-01-22   \n",
       "3         255      Western Sahara  24.215500 -12.885800  2020-01-22   \n",
       "4         237  West Bank and Gaza  31.952200  35.233200  2020-01-22   \n",
       "\n",
       "   Confirmed  Deaths  Recovered  Active             WHO Region  \n",
       "0          0       0          0     0.0                 Africa  \n",
       "1          0       0          0     0.0                 Africa  \n",
       "2          0       0          0     0.0  Eastern Mediterranean  \n",
       "3          0       0          0     0.0                 Africa  \n",
       "4          0       0          0     0.0  Eastern Mediterranean  "
      ]
     },
     "execution_count": 6,
     "metadata": {},
     "output_type": "execute_result"
    }
   ],
   "source": [
    "# Print head\n",
    "\n",
    "df.head()"
   ]
  },
  {
   "cell_type": "code",
   "execution_count": 7,
   "id": "f79f817d",
   "metadata": {},
   "outputs": [
    {
     "data": {
      "text/html": [
       "<div>\n",
       "<style scoped>\n",
       "    .dataframe tbody tr th:only-of-type {\n",
       "        vertical-align: middle;\n",
       "    }\n",
       "\n",
       "    .dataframe tbody tr th {\n",
       "        vertical-align: top;\n",
       "    }\n",
       "\n",
       "    .dataframe thead th {\n",
       "        text-align: right;\n",
       "    }\n",
       "</style>\n",
       "<table border=\"1\" class=\"dataframe\">\n",
       "  <thead>\n",
       "    <tr style=\"text-align: right;\">\n",
       "      <th></th>\n",
       "      <th>Unnamed: 0</th>\n",
       "      <th>Country</th>\n",
       "      <th>Lat</th>\n",
       "      <th>Long</th>\n",
       "      <th>Date</th>\n",
       "      <th>Confirmed</th>\n",
       "      <th>Deaths</th>\n",
       "      <th>Recovered</th>\n",
       "      <th>Active</th>\n",
       "      <th>WHO Region</th>\n",
       "    </tr>\n",
       "  </thead>\n",
       "  <tbody>\n",
       "    <tr>\n",
       "      <th>49059</th>\n",
       "      <td>48811</td>\n",
       "      <td>Angola</td>\n",
       "      <td>-11.20270</td>\n",
       "      <td>17.873900</td>\n",
       "      <td>2020-07-27</td>\n",
       "      <td>950</td>\n",
       "      <td>41</td>\n",
       "      <td>242</td>\n",
       "      <td>667.0</td>\n",
       "      <td>Africa</td>\n",
       "    </tr>\n",
       "    <tr>\n",
       "      <th>49060</th>\n",
       "      <td>48810</td>\n",
       "      <td>Andorra</td>\n",
       "      <td>42.50630</td>\n",
       "      <td>1.521800</td>\n",
       "      <td>2020-07-27</td>\n",
       "      <td>907</td>\n",
       "      <td>52</td>\n",
       "      <td>803</td>\n",
       "      <td>52.0</td>\n",
       "      <td>Europe</td>\n",
       "    </tr>\n",
       "    <tr>\n",
       "      <th>49061</th>\n",
       "      <td>48809</td>\n",
       "      <td>Algeria</td>\n",
       "      <td>28.03390</td>\n",
       "      <td>1.659600</td>\n",
       "      <td>2020-07-27</td>\n",
       "      <td>27973</td>\n",
       "      <td>1163</td>\n",
       "      <td>18837</td>\n",
       "      <td>7973.0</td>\n",
       "      <td>Africa</td>\n",
       "    </tr>\n",
       "    <tr>\n",
       "      <th>49062</th>\n",
       "      <td>48808</td>\n",
       "      <td>Albania</td>\n",
       "      <td>41.15330</td>\n",
       "      <td>20.168300</td>\n",
       "      <td>2020-07-27</td>\n",
       "      <td>4880</td>\n",
       "      <td>144</td>\n",
       "      <td>2745</td>\n",
       "      <td>1991.0</td>\n",
       "      <td>Europe</td>\n",
       "    </tr>\n",
       "    <tr>\n",
       "      <th>49063</th>\n",
       "      <td>48807</td>\n",
       "      <td>Afghanistan</td>\n",
       "      <td>33.93911</td>\n",
       "      <td>67.709953</td>\n",
       "      <td>2020-07-27</td>\n",
       "      <td>36263</td>\n",
       "      <td>1269</td>\n",
       "      <td>25198</td>\n",
       "      <td>9796.0</td>\n",
       "      <td>Eastern Mediterranean</td>\n",
       "    </tr>\n",
       "  </tbody>\n",
       "</table>\n",
       "</div>"
      ],
      "text/plain": [
       "       Unnamed: 0      Country       Lat       Long        Date  Confirmed  \\\n",
       "49059       48811       Angola -11.20270  17.873900  2020-07-27        950   \n",
       "49060       48810      Andorra  42.50630   1.521800  2020-07-27        907   \n",
       "49061       48809      Algeria  28.03390   1.659600  2020-07-27      27973   \n",
       "49062       48808      Albania  41.15330  20.168300  2020-07-27       4880   \n",
       "49063       48807  Afghanistan  33.93911  67.709953  2020-07-27      36263   \n",
       "\n",
       "       Deaths  Recovered  Active             WHO Region  \n",
       "49059      41        242   667.0                 Africa  \n",
       "49060      52        803    52.0                 Europe  \n",
       "49061    1163      18837  7973.0                 Africa  \n",
       "49062     144       2745  1991.0                 Europe  \n",
       "49063    1269      25198  9796.0  Eastern Mediterranean  "
      ]
     },
     "execution_count": 7,
     "metadata": {},
     "output_type": "execute_result"
    }
   ],
   "source": [
    "# Print tail\n",
    "\n",
    "df.tail()"
   ]
  },
  {
   "cell_type": "code",
   "execution_count": 8,
   "id": "8126dbe5",
   "metadata": {},
   "outputs": [
    {
     "name": "stdout",
     "output_type": "stream",
     "text": [
      "<class 'pandas.core.frame.DataFrame'>\n",
      "RangeIndex: 49064 entries, 0 to 49063\n",
      "Data columns (total 10 columns):\n",
      " #   Column      Non-Null Count  Dtype  \n",
      "---  ------      --------------  -----  \n",
      " 0   Unnamed: 0  49064 non-null  int64  \n",
      " 1   Country     49064 non-null  object \n",
      " 2   Lat         49064 non-null  float64\n",
      " 3   Long        49064 non-null  float64\n",
      " 4   Date        49064 non-null  object \n",
      " 5   Confirmed   49064 non-null  int64  \n",
      " 6   Deaths      49064 non-null  int64  \n",
      " 7   Recovered   49064 non-null  int64  \n",
      " 8   Active      49046 non-null  float64\n",
      " 9   WHO Region  49064 non-null  object \n",
      "dtypes: float64(3), int64(4), object(3)\n",
      "memory usage: 3.7+ MB\n"
     ]
    }
   ],
   "source": [
    "df.info()"
   ]
  },
  {
   "cell_type": "code",
   "execution_count": 9,
   "id": "fc2b2476",
   "metadata": {},
   "outputs": [
    {
     "data": {
      "text/plain": [
       "Unnamed: 0      int64\n",
       "Country        object\n",
       "Lat           float64\n",
       "Long          float64\n",
       "Date           object\n",
       "Confirmed       int64\n",
       "Deaths          int64\n",
       "Recovered       int64\n",
       "Active        float64\n",
       "WHO Region     object\n",
       "dtype: object"
      ]
     },
     "execution_count": 9,
     "metadata": {},
     "output_type": "execute_result"
    }
   ],
   "source": [
    "df.dtypes"
   ]
  },
  {
   "cell_type": "code",
   "execution_count": 10,
   "id": "7a41c6d8",
   "metadata": {},
   "outputs": [
    {
     "data": {
      "text/plain": [
       "str"
      ]
     },
     "execution_count": 10,
     "metadata": {},
     "output_type": "execute_result"
    }
   ],
   "source": [
    "type(df['Date'][0])"
   ]
  },
  {
   "cell_type": "code",
   "execution_count": 70,
   "id": "d9a7d587",
   "metadata": {},
   "outputs": [
    {
     "data": {
      "text/plain": [
       "(49064, 10)"
      ]
     },
     "execution_count": 70,
     "metadata": {},
     "output_type": "execute_result"
    }
   ],
   "source": [
    "# Print Shape\n",
    "\n",
    "df.shape"
   ]
  },
  {
   "cell_type": "code",
   "execution_count": 11,
   "id": "366900e1",
   "metadata": {},
   "outputs": [
    {
     "data": {
      "text/plain": [
       "Index(['Unnamed: 0', 'Country', 'Lat', 'Long', 'Date', 'Confirmed', 'Deaths',\n",
       "       'Recovered', 'Active', 'WHO Region'],\n",
       "      dtype='object')"
      ]
     },
     "execution_count": 11,
     "metadata": {},
     "output_type": "execute_result"
    }
   ],
   "source": [
    "df.columns"
   ]
  },
  {
   "cell_type": "code",
   "execution_count": 12,
   "id": "b8b714dd",
   "metadata": {},
   "outputs": [],
   "source": [
    "# Dropping unnecessary 'Unnamed: 0' column from df - redundant\n",
    "\n",
    "df = df.drop(columns = ['Unnamed: 0'])"
   ]
  },
  {
   "cell_type": "code",
   "execution_count": 13,
   "id": "f7f377c9",
   "metadata": {},
   "outputs": [
    {
     "data": {
      "text/html": [
       "<div>\n",
       "<style scoped>\n",
       "    .dataframe tbody tr th:only-of-type {\n",
       "        vertical-align: middle;\n",
       "    }\n",
       "\n",
       "    .dataframe tbody tr th {\n",
       "        vertical-align: top;\n",
       "    }\n",
       "\n",
       "    .dataframe thead th {\n",
       "        text-align: right;\n",
       "    }\n",
       "</style>\n",
       "<table border=\"1\" class=\"dataframe\">\n",
       "  <thead>\n",
       "    <tr style=\"text-align: right;\">\n",
       "      <th></th>\n",
       "      <th>Country</th>\n",
       "      <th>Lat</th>\n",
       "      <th>Long</th>\n",
       "      <th>Date</th>\n",
       "      <th>Confirmed</th>\n",
       "      <th>Deaths</th>\n",
       "      <th>Recovered</th>\n",
       "      <th>Active</th>\n",
       "      <th>WHO Region</th>\n",
       "    </tr>\n",
       "  </thead>\n",
       "  <tbody>\n",
       "    <tr>\n",
       "      <th>0</th>\n",
       "      <td>Zimbabwe</td>\n",
       "      <td>-19.015438</td>\n",
       "      <td>29.154857</td>\n",
       "      <td>2020-01-22</td>\n",
       "      <td>0</td>\n",
       "      <td>0</td>\n",
       "      <td>0</td>\n",
       "      <td>0.0</td>\n",
       "      <td>Africa</td>\n",
       "    </tr>\n",
       "    <tr>\n",
       "      <th>1</th>\n",
       "      <td>Zambia</td>\n",
       "      <td>-13.133897</td>\n",
       "      <td>27.849332</td>\n",
       "      <td>2020-01-22</td>\n",
       "      <td>0</td>\n",
       "      <td>0</td>\n",
       "      <td>0</td>\n",
       "      <td>0.0</td>\n",
       "      <td>Africa</td>\n",
       "    </tr>\n",
       "    <tr>\n",
       "      <th>2</th>\n",
       "      <td>Yemen</td>\n",
       "      <td>15.552727</td>\n",
       "      <td>48.516388</td>\n",
       "      <td>2020-01-22</td>\n",
       "      <td>0</td>\n",
       "      <td>0</td>\n",
       "      <td>0</td>\n",
       "      <td>0.0</td>\n",
       "      <td>Eastern Mediterranean</td>\n",
       "    </tr>\n",
       "    <tr>\n",
       "      <th>3</th>\n",
       "      <td>Western Sahara</td>\n",
       "      <td>24.215500</td>\n",
       "      <td>-12.885800</td>\n",
       "      <td>2020-01-22</td>\n",
       "      <td>0</td>\n",
       "      <td>0</td>\n",
       "      <td>0</td>\n",
       "      <td>0.0</td>\n",
       "      <td>Africa</td>\n",
       "    </tr>\n",
       "    <tr>\n",
       "      <th>4</th>\n",
       "      <td>West Bank and Gaza</td>\n",
       "      <td>31.952200</td>\n",
       "      <td>35.233200</td>\n",
       "      <td>2020-01-22</td>\n",
       "      <td>0</td>\n",
       "      <td>0</td>\n",
       "      <td>0</td>\n",
       "      <td>0.0</td>\n",
       "      <td>Eastern Mediterranean</td>\n",
       "    </tr>\n",
       "  </tbody>\n",
       "</table>\n",
       "</div>"
      ],
      "text/plain": [
       "              Country        Lat       Long        Date  Confirmed  Deaths  \\\n",
       "0            Zimbabwe -19.015438  29.154857  2020-01-22          0       0   \n",
       "1              Zambia -13.133897  27.849332  2020-01-22          0       0   \n",
       "2               Yemen  15.552727  48.516388  2020-01-22          0       0   \n",
       "3      Western Sahara  24.215500 -12.885800  2020-01-22          0       0   \n",
       "4  West Bank and Gaza  31.952200  35.233200  2020-01-22          0       0   \n",
       "\n",
       "   Recovered  Active             WHO Region  \n",
       "0          0     0.0                 Africa  \n",
       "1          0     0.0                 Africa  \n",
       "2          0     0.0  Eastern Mediterranean  \n",
       "3          0     0.0                 Africa  \n",
       "4          0     0.0  Eastern Mediterranean  "
      ]
     },
     "execution_count": 13,
     "metadata": {},
     "output_type": "execute_result"
    }
   ],
   "source": [
    "# Confirm Drop of 'Unnamed: 0'\n",
    "\n",
    "df.head()"
   ]
  },
  {
   "cell_type": "code",
   "execution_count": 14,
   "id": "292c203e",
   "metadata": {},
   "outputs": [],
   "source": [
    "# Dropping unnecessary 'Active' column from df - Not needed for final Analysis\n",
    "\n",
    "df = df.drop(columns = ['Active'])"
   ]
  },
  {
   "cell_type": "code",
   "execution_count": 15,
   "id": "00966338",
   "metadata": {},
   "outputs": [
    {
     "data": {
      "text/html": [
       "<div>\n",
       "<style scoped>\n",
       "    .dataframe tbody tr th:only-of-type {\n",
       "        vertical-align: middle;\n",
       "    }\n",
       "\n",
       "    .dataframe tbody tr th {\n",
       "        vertical-align: top;\n",
       "    }\n",
       "\n",
       "    .dataframe thead th {\n",
       "        text-align: right;\n",
       "    }\n",
       "</style>\n",
       "<table border=\"1\" class=\"dataframe\">\n",
       "  <thead>\n",
       "    <tr style=\"text-align: right;\">\n",
       "      <th></th>\n",
       "      <th>Country</th>\n",
       "      <th>Lat</th>\n",
       "      <th>Long</th>\n",
       "      <th>Date</th>\n",
       "      <th>Confirmed</th>\n",
       "      <th>Deaths</th>\n",
       "      <th>Recovered</th>\n",
       "      <th>WHO Region</th>\n",
       "    </tr>\n",
       "  </thead>\n",
       "  <tbody>\n",
       "    <tr>\n",
       "      <th>0</th>\n",
       "      <td>Zimbabwe</td>\n",
       "      <td>-19.015438</td>\n",
       "      <td>29.154857</td>\n",
       "      <td>2020-01-22</td>\n",
       "      <td>0</td>\n",
       "      <td>0</td>\n",
       "      <td>0</td>\n",
       "      <td>Africa</td>\n",
       "    </tr>\n",
       "    <tr>\n",
       "      <th>1</th>\n",
       "      <td>Zambia</td>\n",
       "      <td>-13.133897</td>\n",
       "      <td>27.849332</td>\n",
       "      <td>2020-01-22</td>\n",
       "      <td>0</td>\n",
       "      <td>0</td>\n",
       "      <td>0</td>\n",
       "      <td>Africa</td>\n",
       "    </tr>\n",
       "    <tr>\n",
       "      <th>2</th>\n",
       "      <td>Yemen</td>\n",
       "      <td>15.552727</td>\n",
       "      <td>48.516388</td>\n",
       "      <td>2020-01-22</td>\n",
       "      <td>0</td>\n",
       "      <td>0</td>\n",
       "      <td>0</td>\n",
       "      <td>Eastern Mediterranean</td>\n",
       "    </tr>\n",
       "    <tr>\n",
       "      <th>3</th>\n",
       "      <td>Western Sahara</td>\n",
       "      <td>24.215500</td>\n",
       "      <td>-12.885800</td>\n",
       "      <td>2020-01-22</td>\n",
       "      <td>0</td>\n",
       "      <td>0</td>\n",
       "      <td>0</td>\n",
       "      <td>Africa</td>\n",
       "    </tr>\n",
       "    <tr>\n",
       "      <th>4</th>\n",
       "      <td>West Bank and Gaza</td>\n",
       "      <td>31.952200</td>\n",
       "      <td>35.233200</td>\n",
       "      <td>2020-01-22</td>\n",
       "      <td>0</td>\n",
       "      <td>0</td>\n",
       "      <td>0</td>\n",
       "      <td>Eastern Mediterranean</td>\n",
       "    </tr>\n",
       "  </tbody>\n",
       "</table>\n",
       "</div>"
      ],
      "text/plain": [
       "              Country        Lat       Long        Date  Confirmed  Deaths  \\\n",
       "0            Zimbabwe -19.015438  29.154857  2020-01-22          0       0   \n",
       "1              Zambia -13.133897  27.849332  2020-01-22          0       0   \n",
       "2               Yemen  15.552727  48.516388  2020-01-22          0       0   \n",
       "3      Western Sahara  24.215500 -12.885800  2020-01-22          0       0   \n",
       "4  West Bank and Gaza  31.952200  35.233200  2020-01-22          0       0   \n",
       "\n",
       "   Recovered             WHO Region  \n",
       "0          0                 Africa  \n",
       "1          0                 Africa  \n",
       "2          0  Eastern Mediterranean  \n",
       "3          0                 Africa  \n",
       "4          0  Eastern Mediterranean  "
      ]
     },
     "execution_count": 15,
     "metadata": {},
     "output_type": "execute_result"
    }
   ],
   "source": [
    "# Confirm Drop of 'Active'\n",
    "\n",
    "df.head()"
   ]
  },
  {
   "cell_type": "code",
   "execution_count": 16,
   "id": "73f533f0",
   "metadata": {},
   "outputs": [
    {
     "data": {
      "text/plain": [
       "(49064, 8)"
      ]
     },
     "execution_count": 16,
     "metadata": {},
     "output_type": "execute_result"
    }
   ],
   "source": [
    "# Print shape after dropping column\n",
    "\n",
    "df.shape"
   ]
  },
  {
   "cell_type": "markdown",
   "id": "88b34605",
   "metadata": {},
   "source": [
    "#### Missing values"
   ]
  },
  {
   "cell_type": "code",
   "execution_count": 17,
   "id": "61b3d2a1",
   "metadata": {},
   "outputs": [
    {
     "data": {
      "text/plain": [
       "Country       0\n",
       "Lat           0\n",
       "Long          0\n",
       "Date          0\n",
       "Confirmed     0\n",
       "Deaths        0\n",
       "Recovered     0\n",
       "WHO Region    0\n",
       "dtype: int64"
      ]
     },
     "execution_count": 17,
     "metadata": {},
     "output_type": "execute_result"
    }
   ],
   "source": [
    "# Check for missing values\n",
    "\n",
    "df.isnull().sum()\n",
    "\n",
    "# No missing values to handle"
   ]
  },
  {
   "cell_type": "markdown",
   "id": "8fba18b1",
   "metadata": {},
   "source": [
    "#### Duplicates check"
   ]
  },
  {
   "cell_type": "code",
   "execution_count": 18,
   "id": "05bc654f",
   "metadata": {},
   "outputs": [],
   "source": [
    "dups = df.duplicated()"
   ]
  },
  {
   "cell_type": "code",
   "execution_count": 19,
   "id": "a3d9a7e8",
   "metadata": {},
   "outputs": [
    {
     "data": {
      "text/plain": [
       "(49064,)"
      ]
     },
     "execution_count": 19,
     "metadata": {},
     "output_type": "execute_result"
    }
   ],
   "source": [
    "dups.shape # No dups"
   ]
  },
  {
   "cell_type": "markdown",
   "id": "2f19bae0",
   "metadata": {},
   "source": [
    "#### Extreme values checks"
   ]
  },
  {
   "cell_type": "code",
   "execution_count": 20,
   "id": "e606c5ba",
   "metadata": {},
   "outputs": [
    {
     "name": "stderr",
     "output_type": "stream",
     "text": [
      "/opt/anaconda3/lib/python3.9/site-packages/seaborn/distributions.py:2619: FutureWarning: `distplot` is a deprecated function and will be removed in a future version. Please adapt your code to use either `displot` (a figure-level function with similar flexibility) or `histplot` (an axes-level function for histograms).\n",
      "  warnings.warn(msg, FutureWarning)\n"
     ]
    },
    {
     "data": {
      "text/plain": [
       "<AxesSubplot:xlabel='Deaths', ylabel='Density'>"
      ]
     },
     "execution_count": 20,
     "metadata": {},
     "output_type": "execute_result"
    },
    {
     "data": {
      "image/png": "[encoded data removed]",
      "text/plain": [
       "<Figure size 432x288 with 1 Axes>"
      ]
     },
     "metadata": {
      "needs_background": "light"
     },
     "output_type": "display_data"
    }
   ],
   "source": [
    "sns.distplot(df['Deaths'], bins=25) # Shows extreme values\n",
    "\n",
    "# No extreme vaules noted"
   ]
  },
  {
   "cell_type": "code",
   "execution_count": 35,
   "id": "74c105b6",
   "metadata": {},
   "outputs": [
    {
     "data": {
      "text/plain": [
       "884.2509171694114"
      ]
     },
     "execution_count": 35,
     "metadata": {},
     "output_type": "execute_result"
    }
   ],
   "source": [
    "df['Deaths'].mean() # Check the mean"
   ]
  },
  {
   "cell_type": "code",
   "execution_count": 36,
   "id": "ef8d9383",
   "metadata": {},
   "outputs": [
    {
     "data": {
      "text/plain": [
       "2.0"
      ]
     },
     "execution_count": 36,
     "metadata": {},
     "output_type": "execute_result"
    }
   ],
   "source": [
    "df['Deaths'].median() # Check the median"
   ]
  },
  {
   "cell_type": "code",
   "execution_count": 37,
   "id": "6ef5d103",
   "metadata": {},
   "outputs": [
    {
     "data": {
      "text/plain": [
       "148011"
      ]
     },
     "execution_count": 37,
     "metadata": {},
     "output_type": "execute_result"
    }
   ],
   "source": [
    "df['Deaths'].max() # Check the max"
   ]
  },
  {
   "cell_type": "markdown",
   "id": "f365c8ff",
   "metadata": {},
   "source": [
    "### 3. Data prep for regression analysis "
   ]
  },
  {
   "cell_type": "code",
   "execution_count": 59,
   "id": "f3154c00",
   "metadata": {},
   "outputs": [
    {
     "data": {
      "image/png": "[encoded data removed]",
      "text/plain": [
       "<Figure size 432x288 with 1 Axes>"
      ]
     },
     "metadata": {
      "needs_background": "light"
     },
     "output_type": "display_data"
    }
   ],
   "source": [
    "# Create a scatterplot using matplotlib for another look at how the chosen variables plot against each other.\n",
    "\n",
    "df.plot(x = 'Date', y='Deaths',style='o') # The style option creates a scatterplot; without it, we only have lines.\n",
    "matplotlib.rc('xtick', labelsize=1) \n",
    "matplotlib.rc('ytick', labelsize=1)\n",
    "plt.title('Deaths in early stage of COVID-19 Pandemic')  \n",
    "plt.xlabel('Date')\n",
    "plt.ylabel('Deaths')\n",
    "plt.show()"
   ]
  },
  {
   "cell_type": "code",
   "execution_count": 83,
   "id": "a77dd796",
   "metadata": {},
   "outputs": [
    {
     "data": {
      "image/png": "[encoded data removed]",
      "text/plain": [
       "<Figure size 1440x1440 with 1 Axes>"
      ]
     },
     "metadata": {
      "needs_background": "light"
     },
     "output_type": "display_data"
    }
   ],
   "source": [
    "# Create figure and plot space\n",
    "fig, ax = plt.subplots(figsize=(20, 20))\n",
    "\n",
    "# Add x-axis and y-axis\n",
    "ax.plot(df['Date'],\n",
    "        df['Deaths'],\n",
    "        color='red')\n",
    "\n",
    "# Set title and labels for axes\n",
    "ax.set(xlabel=\"Date\",\n",
    "       ylabel=\"Deaths\",\n",
    "       title=\"COVID-19 related Deaths over Time\")\n",
    "\n",
    "plt.show()"
   ]
  },
  {
   "cell_type": "code",
   "execution_count": 114,
   "id": "50435735",
   "metadata": {},
   "outputs": [],
   "source": [
    "df['Date']=pd.to_datetime(df['Date'])"
   ]
  },
  {
   "cell_type": "code",
   "execution_count": 117,
   "id": "15bd75e7",
   "metadata": {},
   "outputs": [],
   "source": [
    "# Reshape the variables into NumPy arrays and put them into separate objects.\n",
    "\n",
    "X = df['Confirmed'].values.reshape(-1,1)\n",
    "y = df['Deaths'].values.reshape(-1,1)"
   ]
  },
  {
   "cell_type": "code",
   "execution_count": 118,
   "id": "9edafab1",
   "metadata": {},
   "outputs": [
    {
     "data": {
      "text/plain": [
       "array([[    0],\n",
       "       [    0],\n",
       "       [    0],\n",
       "       ...,\n",
       "       [27973],\n",
       "       [ 4880],\n",
       "       [36263]])"
      ]
     },
     "execution_count": 118,
     "metadata": {},
     "output_type": "execute_result"
    }
   ],
   "source": [
    "X"
   ]
  },
  {
   "cell_type": "code",
   "execution_count": 119,
   "id": "72ee4f63",
   "metadata": {},
   "outputs": [
    {
     "data": {
      "text/plain": [
       "array([[   0],\n",
       "       [   0],\n",
       "       [   0],\n",
       "       ...,\n",
       "       [1163],\n",
       "       [ 144],\n",
       "       [1269]])"
      ]
     },
     "execution_count": 119,
     "metadata": {},
     "output_type": "execute_result"
    }
   ],
   "source": [
    "y"
   ]
  },
  {
   "cell_type": "code",
   "execution_count": 120,
   "id": "88aad98a",
   "metadata": {},
   "outputs": [],
   "source": [
    "# Split data into a training set and a test set.\n",
    "\n",
    "X_train, X_test, y_train, y_test = train_test_split(X, y, test_size=0.3, random_state=0)"
   ]
  },
  {
   "cell_type": "markdown",
   "id": "274c75a6",
   "metadata": {},
   "source": [
    "### 3. Hypothesis \n",
    "#### Increased Confrimed Cases will lead to increased Deaths in the intial time period if the COVID-19 Pandemic. This is alarming as this shows that the diseases is deadly if not treated when confrimed as a postive COVID-19 test. "
   ]
  },
  {
   "cell_type": "markdown",
   "id": "e06dd86b",
   "metadata": {},
   "source": [
    "### 4. Regression analysis"
   ]
  },
  {
   "cell_type": "code",
   "execution_count": 121,
   "id": "cf731e8b",
   "metadata": {},
   "outputs": [],
   "source": [
    "# Create a regression object.\n",
    "\n",
    "regression = LinearRegression()  # Defined Regression object to fit onto the training set."
   ]
  },
  {
   "cell_type": "code",
   "execution_count": 122,
   "id": "47399942",
   "metadata": {},
   "outputs": [
    {
     "data": {
      "text/plain": [
       "LinearRegression()"
      ]
     },
     "execution_count": 122,
     "metadata": {},
     "output_type": "execute_result"
    }
   ],
   "source": [
    "# Fit regression object onto the training set.\n",
    "\n",
    "regression.fit(X_train, y_train)"
   ]
  },
  {
   "cell_type": "code",
   "execution_count": 123,
   "id": "eaf10533",
   "metadata": {},
   "outputs": [],
   "source": [
    "# Predict the values of y using X.\n",
    "\n",
    "y_predicted = regression.predict(X_test)"
   ]
  },
  {
   "cell_type": "code",
   "execution_count": 124,
   "id": "55ddffbb",
   "metadata": {},
   "outputs": [
    {
     "data": {
      "image/png": "[encoded data removed]",
      "text/plain": [
       "<Figure size 432x288 with 1 Axes>"
      ]
     },
     "metadata": {
      "needs_background": "light"
     },
     "output_type": "display_data"
    }
   ],
   "source": [
    "# Create a plot that shows the regression line from the model on the test set.\n",
    "\n",
    "plot_test = plt\n",
    "plot_test.scatter(X_test, y_test, color='gray', s = 15)\n",
    "plot_test.plot(X_test, y_predicted, color='red', linewidth =3)\n",
    "plot_test.title('Confirmed Cases vs Deaths (Test set)')\n",
    "plot_test.xlabel('Confirmed Cases')\n",
    "plot_test.ylabel('Deaths')\n",
    "plot_test.show()"
   ]
  },
  {
   "cell_type": "markdown",
   "id": "1927c380",
   "metadata": {},
   "source": [
    "#### The line appears to fit the data in the intial time frame but does increase distance from the actual values as the amoutn of deaths increase showing that outr model can not for certian predicts deaths based on a positive Confirmed COVID test in larger data sets. "
   ]
  },
  {
   "cell_type": "code",
   "execution_count": 125,
   "id": "40775448",
   "metadata": {},
   "outputs": [],
   "source": [
    "# Create objects that contain the model summary statistics.\n",
    "\n",
    "rmse = mean_squared_error(y_test, y_predicted) # This is the mean squared error\n",
    "r2 = r2_score(y_test, y_predicted) # This is the R2 score. "
   ]
  },
  {
   "cell_type": "code",
   "execution_count": 126,
   "id": "6b17651d",
   "metadata": {},
   "outputs": [
    {
     "name": "stdout",
     "output_type": "stream",
     "text": [
      "Slope: [[0.04613046]]\n",
      "Mean squared error:  7097711.551525344\n",
      "R2 score:  0.8264696305659485\n"
     ]
    }
   ],
   "source": [
    "# Print the model summary statistics. This is where you evaluate the performance of the model.\n",
    "\n",
    "print('Slope:' ,regression.coef_)\n",
    "print('Mean squared error: ', rmse)\n",
    "print('R2 score: ', r2)"
   ]
  },
  {
   "cell_type": "markdown",
   "id": "e262ce04",
   "metadata": {},
   "source": [
    "### MSE and R2 Values\n",
    "#### Note the increased MSE value indicating the average of the squared difference between the estimated values and the true values is large. This requires increased model adjusments to attain a lower MSE, making the model closer to true values. \n",
    "#### Note the R2 value of {.82] which is closer to 2 indicating a good fit to the data. "
   ]
  },
  {
   "cell_type": "code",
   "execution_count": 127,
   "id": "ea6521ed",
   "metadata": {},
   "outputs": [
    {
     "data": {
      "text/plain": [
       "array([[127.8397048 ],\n",
       "       [142.4630608 ],\n",
       "       [112.33987006],\n",
       "       ...,\n",
       "       [185.54891094],\n",
       "       [146.24575856],\n",
       "       [206.12309635]])"
      ]
     },
     "execution_count": 127,
     "metadata": {},
     "output_type": "execute_result"
    }
   ],
   "source": [
    "y_predicted"
   ]
  },
  {
   "cell_type": "code",
   "execution_count": 128,
   "id": "2cf74096",
   "metadata": {},
   "outputs": [
    {
     "data": {
      "text/html": [
       "<div>\n",
       "<style scoped>\n",
       "    .dataframe tbody tr th:only-of-type {\n",
       "        vertical-align: middle;\n",
       "    }\n",
       "\n",
       "    .dataframe tbody tr th {\n",
       "        vertical-align: top;\n",
       "    }\n",
       "\n",
       "    .dataframe thead th {\n",
       "        text-align: right;\n",
       "    }\n",
       "</style>\n",
       "<table border=\"1\" class=\"dataframe\">\n",
       "  <thead>\n",
       "    <tr style=\"text-align: right;\">\n",
       "      <th></th>\n",
       "      <th>Actual</th>\n",
       "      <th>Predicted</th>\n",
       "    </tr>\n",
       "  </thead>\n",
       "  <tbody>\n",
       "    <tr>\n",
       "      <th>0</th>\n",
       "      <td>24</td>\n",
       "      <td>127.839705</td>\n",
       "    </tr>\n",
       "    <tr>\n",
       "      <th>1</th>\n",
       "      <td>0</td>\n",
       "      <td>142.463061</td>\n",
       "    </tr>\n",
       "    <tr>\n",
       "      <th>2</th>\n",
       "      <td>0</td>\n",
       "      <td>112.339870</td>\n",
       "    </tr>\n",
       "    <tr>\n",
       "      <th>3</th>\n",
       "      <td>0</td>\n",
       "      <td>112.339870</td>\n",
       "    </tr>\n",
       "    <tr>\n",
       "      <th>4</th>\n",
       "      <td>83</td>\n",
       "      <td>228.542500</td>\n",
       "    </tr>\n",
       "    <tr>\n",
       "      <th>5</th>\n",
       "      <td>0</td>\n",
       "      <td>112.708914</td>\n",
       "    </tr>\n",
       "    <tr>\n",
       "      <th>6</th>\n",
       "      <td>0</td>\n",
       "      <td>112.339870</td>\n",
       "    </tr>\n",
       "    <tr>\n",
       "      <th>7</th>\n",
       "      <td>705</td>\n",
       "      <td>950.299686</td>\n",
       "    </tr>\n",
       "    <tr>\n",
       "      <th>8</th>\n",
       "      <td>3</td>\n",
       "      <td>139.972016</td>\n",
       "    </tr>\n",
       "    <tr>\n",
       "      <th>9</th>\n",
       "      <td>175</td>\n",
       "      <td>363.105054</td>\n",
       "    </tr>\n",
       "    <tr>\n",
       "      <th>10</th>\n",
       "      <td>0</td>\n",
       "      <td>112.339870</td>\n",
       "    </tr>\n",
       "    <tr>\n",
       "      <th>11</th>\n",
       "      <td>1753</td>\n",
       "      <td>1300.937316</td>\n",
       "    </tr>\n",
       "    <tr>\n",
       "      <th>12</th>\n",
       "      <td>0</td>\n",
       "      <td>113.077957</td>\n",
       "    </tr>\n",
       "    <tr>\n",
       "      <th>13</th>\n",
       "      <td>7</td>\n",
       "      <td>144.861845</td>\n",
       "    </tr>\n",
       "    <tr>\n",
       "      <th>14</th>\n",
       "      <td>3274</td>\n",
       "      <td>4496.717232</td>\n",
       "    </tr>\n",
       "    <tr>\n",
       "      <th>15</th>\n",
       "      <td>155</td>\n",
       "      <td>276.933353</td>\n",
       "    </tr>\n",
       "    <tr>\n",
       "      <th>16</th>\n",
       "      <td>0</td>\n",
       "      <td>112.339870</td>\n",
       "    </tr>\n",
       "    <tr>\n",
       "      <th>17</th>\n",
       "      <td>0</td>\n",
       "      <td>112.386001</td>\n",
       "    </tr>\n",
       "    <tr>\n",
       "      <th>18</th>\n",
       "      <td>2</td>\n",
       "      <td>114.138958</td>\n",
       "    </tr>\n",
       "    <tr>\n",
       "      <th>19</th>\n",
       "      <td>100</td>\n",
       "      <td>593.388313</td>\n",
       "    </tr>\n",
       "    <tr>\n",
       "      <th>20</th>\n",
       "      <td>13</td>\n",
       "      <td>151.227848</td>\n",
       "    </tr>\n",
       "    <tr>\n",
       "      <th>21</th>\n",
       "      <td>133</td>\n",
       "      <td>4741.300933</td>\n",
       "    </tr>\n",
       "    <tr>\n",
       "      <th>22</th>\n",
       "      <td>5828</td>\n",
       "      <td>1956.774074</td>\n",
       "    </tr>\n",
       "    <tr>\n",
       "      <th>23</th>\n",
       "      <td>5</td>\n",
       "      <td>119.351700</td>\n",
       "    </tr>\n",
       "    <tr>\n",
       "      <th>24</th>\n",
       "      <td>0</td>\n",
       "      <td>112.339870</td>\n",
       "    </tr>\n",
       "    <tr>\n",
       "      <th>25</th>\n",
       "      <td>0</td>\n",
       "      <td>113.031827</td>\n",
       "    </tr>\n",
       "    <tr>\n",
       "      <th>26</th>\n",
       "      <td>1</td>\n",
       "      <td>112.847305</td>\n",
       "    </tr>\n",
       "    <tr>\n",
       "      <th>27</th>\n",
       "      <td>0</td>\n",
       "      <td>112.893436</td>\n",
       "    </tr>\n",
       "    <tr>\n",
       "      <th>28</th>\n",
       "      <td>6</td>\n",
       "      <td>139.049407</td>\n",
       "    </tr>\n",
       "    <tr>\n",
       "      <th>29</th>\n",
       "      <td>1</td>\n",
       "      <td>112.801175</td>\n",
       "    </tr>\n",
       "  </tbody>\n",
       "</table>\n",
       "</div>"
      ],
      "text/plain": [
       "    Actual    Predicted\n",
       "0       24   127.839705\n",
       "1        0   142.463061\n",
       "2        0   112.339870\n",
       "3        0   112.339870\n",
       "4       83   228.542500\n",
       "5        0   112.708914\n",
       "6        0   112.339870\n",
       "7      705   950.299686\n",
       "8        3   139.972016\n",
       "9      175   363.105054\n",
       "10       0   112.339870\n",
       "11    1753  1300.937316\n",
       "12       0   113.077957\n",
       "13       7   144.861845\n",
       "14    3274  4496.717232\n",
       "15     155   276.933353\n",
       "16       0   112.339870\n",
       "17       0   112.386001\n",
       "18       2   114.138958\n",
       "19     100   593.388313\n",
       "20      13   151.227848\n",
       "21     133  4741.300933\n",
       "22    5828  1956.774074\n",
       "23       5   119.351700\n",
       "24       0   112.339870\n",
       "25       0   113.031827\n",
       "26       1   112.847305\n",
       "27       0   112.893436\n",
       "28       6   139.049407\n",
       "29       1   112.801175"
      ]
     },
     "execution_count": 128,
     "metadata": {},
     "output_type": "execute_result"
    }
   ],
   "source": [
    "# Create a dataframe comparing the actual and predicted values of y.\n",
    "\n",
    "data = pd.DataFrame({'Actual': y_test.flatten(), 'Predicted': y_predicted.flatten()})\n",
    "data.head(30)"
   ]
  },
  {
   "cell_type": "markdown",
   "id": "f2ad1793",
   "metadata": {},
   "source": [
    "### Compare Actual and Y-predicted values\n",
    "#### There is a significant difference in the Predicted and the actual values, indicating our model does not fit the actual data and we need to fine tune the model for decreased variance. "
   ]
  },
  {
   "cell_type": "markdown",
   "id": "1cf92d49",
   "metadata": {},
   "source": [
    "#### Compare how the regression fits the training set"
   ]
  },
  {
   "cell_type": "code",
   "execution_count": 129,
   "id": "c60b88af",
   "metadata": {},
   "outputs": [],
   "source": [
    "# Predict.\n",
    "\n",
    "y_predicted_train = regression.predict(X_train) # Predicting X_train!"
   ]
  },
  {
   "cell_type": "code",
   "execution_count": 130,
   "id": "3a23ea2f",
   "metadata": {},
   "outputs": [],
   "source": [
    "rmse = mean_squared_error(y_train, y_predicted_train)\n",
    "r2 = r2_score(y_train, y_predicted_train)"
   ]
  },
  {
   "cell_type": "code",
   "execution_count": 131,
   "id": "d7742443",
   "metadata": {},
   "outputs": [
    {
     "name": "stdout",
     "output_type": "stream",
     "text": [
      "Slope: [[0.04613046]]\n",
      "Mean squared error:  6520530.844649296\n",
      "R2 score:  0.8345828474223738\n"
     ]
    }
   ],
   "source": [
    "print('Slope:' ,regression.coef_)\n",
    "print('Mean squared error: ', rmse)\n",
    "print('R2 score: ', r2)"
   ]
  },
  {
   "cell_type": "code",
   "execution_count": 132,
   "id": "8bb626ed",
   "metadata": {},
   "outputs": [
    {
     "data": {
      "image/png": "[encoded data removed]",
      "text/plain": [
       "<Figure size 432x288 with 1 Axes>"
      ]
     },
     "metadata": {
      "needs_background": "light"
     },
     "output_type": "display_data"
    }
   ],
   "source": [
    "# Visualizing the training set results.\n",
    "\n",
    "plot_test = plt\n",
    "plot_test.scatter(X_train, y_train, color='green', s = 15)\n",
    "plot_test.plot(X_train, y_predicted_train, color='red', linewidth =3)\n",
    "plot_test.title('Confirmed Cases vs Deaths (Test set)')\n",
    "plot_test.xlabel('Confirmed Cases')\n",
    "plot_test.ylabel('Deaths')\n",
    "plot_test.show()"
   ]
  },
  {
   "cell_type": "markdown",
   "id": "efdda05f",
   "metadata": {},
   "source": [
    "### The model performed fairly well in the test set much like the training set, since the MSE was a high number there was an increased amount of variance in our data. The R2 score being closer to 1 indicated it was a good fit, which may have been due to increased number of data points available for modeling."
   ]
  },
  {
   "cell_type": "code",
   "execution_count": null,
   "id": "d68978c8",
   "metadata": {},
   "outputs": [],
   "source": []
  }
 ],
 "metadata": {
  "kernelspec": {
   "display_name": "Python 3 (ipykernel)",
   "language": "python",
   "name": "python3"
  },
  "language_info": {
   "codemirror_mode": {
    "name": "ipython",
    "version": 3
   },
   "file_extension": ".py",
   "mimetype": "text/x-python",
   "name": "python",
   "nbconvert_exporter": "python",
   "pygments_lexer": "ipython3",
   "version": "3.9.7"
  }
 },
 "nbformat": 4,
 "nbformat_minor": 5
}
